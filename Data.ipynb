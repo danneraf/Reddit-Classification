{
 "cells": [
  {
   "cell_type": "markdown",
   "id": "7088125b-0d80-4962-9716-29f1a6b1217b",
   "metadata": {},
   "source": [
    "# Find and Save Reddit Data from Am I The Asshole and Relationship Advice "
   ]
  },
  {
   "cell_type": "code",
   "execution_count": 1,
   "id": "f1299545-ab72-49f9-8385-7056c5e76d21",
   "metadata": {
    "scrolled": true,
    "tags": []
   },
   "outputs": [
    {
     "name": "stdout",
     "output_type": "stream",
     "text": [
      "Requirement already satisfied: pmaw in /Users/danner/opt/anaconda3/lib/python3.9/site-packages (3.0.0)\n",
      "Requirement already satisfied: pandas in /Users/danner/opt/anaconda3/lib/python3.9/site-packages (1.5.3)\n",
      "Requirement already satisfied: praw in /Users/danner/opt/anaconda3/lib/python3.9/site-packages (from pmaw) (7.7.0)\n",
      "Requirement already satisfied: requests in /Users/danner/opt/anaconda3/lib/python3.9/site-packages (from pmaw) (2.28.1)\n",
      "Requirement already satisfied: python-dateutil>=2.8.1 in /Users/danner/opt/anaconda3/lib/python3.9/site-packages (from pandas) (2.8.2)\n",
      "Requirement already satisfied: pytz>=2020.1 in /Users/danner/opt/anaconda3/lib/python3.9/site-packages (from pandas) (2022.7)\n",
      "Requirement already satisfied: numpy>=1.20.3 in /Users/danner/opt/anaconda3/lib/python3.9/site-packages (from pandas) (1.23.5)\n",
      "Requirement already satisfied: six>=1.5 in /Users/danner/opt/anaconda3/lib/python3.9/site-packages (from python-dateutil>=2.8.1->pandas) (1.16.0)\n",
      "Requirement already satisfied: websocket-client>=0.54.0 in /Users/danner/opt/anaconda3/lib/python3.9/site-packages (from praw->pmaw) (0.58.0)\n",
      "Requirement already satisfied: update-checker>=0.18 in /Users/danner/opt/anaconda3/lib/python3.9/site-packages (from praw->pmaw) (0.18.0)\n",
      "Requirement already satisfied: prawcore<3,>=2.1 in /Users/danner/opt/anaconda3/lib/python3.9/site-packages (from praw->pmaw) (2.3.0)\n",
      "Requirement already satisfied: idna<4,>=2.5 in /Users/danner/opt/anaconda3/lib/python3.9/site-packages (from requests->pmaw) (3.4)\n",
      "Requirement already satisfied: certifi>=2017.4.17 in /Users/danner/opt/anaconda3/lib/python3.9/site-packages (from requests->pmaw) (2022.12.7)\n",
      "Requirement already satisfied: charset-normalizer<3,>=2 in /Users/danner/opt/anaconda3/lib/python3.9/site-packages (from requests->pmaw) (2.0.4)\n",
      "Requirement already satisfied: urllib3<1.27,>=1.21.1 in /Users/danner/opt/anaconda3/lib/python3.9/site-packages (from requests->pmaw) (1.26.14)\n",
      "\n",
      "\u001b[1m[\u001b[0m\u001b[34;49mnotice\u001b[0m\u001b[1;39;49m]\u001b[0m\u001b[39;49m A new release of pip is available: \u001b[0m\u001b[31;49m23.0.1\u001b[0m\u001b[39;49m -> \u001b[0m\u001b[32;49m23.1.1\u001b[0m\n",
      "\u001b[1m[\u001b[0m\u001b[34;49mnotice\u001b[0m\u001b[1;39;49m]\u001b[0m\u001b[39;49m To update, run: \u001b[0m\u001b[32;49mpip install --upgrade pip\u001b[0m\n",
      "Note: you may need to restart the kernel to use updated packages.\n"
     ]
    }
   ],
   "source": [
    "pip install pmaw pandas"
   ]
  },
  {
   "cell_type": "code",
   "execution_count": 3,
   "id": "472fe706-df3a-4d94-bae7-eba0a23b4310",
   "metadata": {},
   "outputs": [],
   "source": [
    "#https://medium.com/swlh/how-to-scrape-large-amounts-of-reddit-data-using-pushshift-1d33bde9286\n",
    "import pandas as pd\n",
    "import requests \n",
    "from pmaw import PushshiftAPI\n",
    "api = PushshiftAPI()"
   ]
  },
  {
   "cell_type": "code",
   "execution_count": 4,
   "id": "c1088b96-7a8e-43ec-b82b-54879eab844d",
   "metadata": {},
   "outputs": [],
   "source": [
    "#https://www.youtube.com/watch?v=AcrjEWsMi_E \n",
    "url = 'https://api.pushshift.io/reddit/search/submission'"
   ]
  },
  {
   "cell_type": "markdown",
   "id": "5e7aa9e8-8a53-4dc0-bcc9-049b7e3e32b1",
   "metadata": {},
   "source": [
    "## Data from r/AmItheAsshole"
   ]
  },
  {
   "cell_type": "code",
   "execution_count": 18,
   "id": "9e95cd3e-4bd4-4430-ba94-e8d60b70babe",
   "metadata": {},
   "outputs": [],
   "source": [
    "params = {'subreddit': 'AITA',\n",
    "         'size': 1000}"
   ]
  },
  {
   "cell_type": "code",
   "execution_count": 19,
   "id": "70f55ebe-35e6-42d6-ba90-50e334d8fa8d",
   "metadata": {},
   "outputs": [],
   "source": [
    "res = requests.get(url, params)"
   ]
  },
  {
   "cell_type": "code",
   "execution_count": 21,
   "id": "f0255f8a-4901-4783-ba99-5ce80c821ce7",
   "metadata": {
    "scrolled": true,
    "tags": []
   },
   "outputs": [],
   "source": [
    "data = res.json()"
   ]
  },
  {
   "cell_type": "code",
   "execution_count": 22,
   "id": "ac08e2ec-b5b3-435a-8ea9-df14fa082694",
   "metadata": {},
   "outputs": [],
   "source": [
    "posts = data['data']"
   ]
  },
  {
   "cell_type": "code",
   "execution_count": 110,
   "id": "bb9ae7ba-93bf-4f5a-9400-6a23c81396fb",
   "metadata": {},
   "outputs": [
    {
     "data": {
      "text/plain": [
       "1000"
      ]
     },
     "execution_count": 110,
     "metadata": {},
     "output_type": "execute_result"
    }
   ],
   "source": [
    "len(posts)"
   ]
  },
  {
   "cell_type": "code",
   "execution_count": 24,
   "id": "7482596d-4f2f-4100-84d4-449d40212f2d",
   "metadata": {},
   "outputs": [],
   "source": [
    "df = pd.DataFrame(posts)"
   ]
  },
  {
   "cell_type": "code",
   "execution_count": 26,
   "id": "d798698e-871d-473c-b42d-d7519b600007",
   "metadata": {},
   "outputs": [
    {
     "data": {
      "text/html": [
       "<div>\n",
       "<style scoped>\n",
       "    .dataframe tbody tr th:only-of-type {\n",
       "        vertical-align: middle;\n",
       "    }\n",
       "\n",
       "    .dataframe tbody tr th {\n",
       "        vertical-align: top;\n",
       "    }\n",
       "\n",
       "    .dataframe thead th {\n",
       "        text-align: right;\n",
       "    }\n",
       "</style>\n",
       "<table border=\"1\" class=\"dataframe\">\n",
       "  <thead>\n",
       "    <tr style=\"text-align: right;\">\n",
       "      <th></th>\n",
       "      <th>subreddit</th>\n",
       "      <th>selftext</th>\n",
       "      <th>title</th>\n",
       "    </tr>\n",
       "  </thead>\n",
       "  <tbody>\n",
       "    <tr>\n",
       "      <th>0</th>\n",
       "      <td>u_I-read-aita</td>\n",
       "      <td></td>\n",
       "      <td>My cousin got his super hero skin refunded the...</td>\n",
       "    </tr>\n",
       "    <tr>\n",
       "      <th>1</th>\n",
       "      <td>u_Throw-AITA-away888</td>\n",
       "      <td>[deleted]</td>\n",
       "      <td>Looks like an STD, is this what genital herpes...</td>\n",
       "    </tr>\n",
       "    <tr>\n",
       "      <th>2</th>\n",
       "      <td>u_4DTix-aita</td>\n",
       "      <td>OG post here:  https://old.reddit.com/r/AmIthe...</td>\n",
       "      <td>[UPDATE] WIBTA if I give away my tickets out o...</td>\n",
       "    </tr>\n",
       "    <tr>\n",
       "      <th>3</th>\n",
       "      <td>AITA</td>\n",
       "      <td></td>\n",
       "      <td>Hey, we found this picture of you!</td>\n",
       "    </tr>\n",
       "    <tr>\n",
       "      <th>4</th>\n",
       "      <td>AITA</td>\n",
       "      <td>* As is clear from the other pinned post here,...</td>\n",
       "      <td>Read this if you were directed to the front pa...</td>\n",
       "    </tr>\n",
       "  </tbody>\n",
       "</table>\n",
       "</div>"
      ],
      "text/plain": [
       "              subreddit                                           selftext  \\\n",
       "0         u_I-read-aita                                                      \n",
       "1  u_Throw-AITA-away888                                          [deleted]   \n",
       "2          u_4DTix-aita  OG post here:  https://old.reddit.com/r/AmIthe...   \n",
       "3                  AITA                                                      \n",
       "4                  AITA  * As is clear from the other pinned post here,...   \n",
       "\n",
       "                                               title  \n",
       "0  My cousin got his super hero skin refunded the...  \n",
       "1  Looks like an STD, is this what genital herpes...  \n",
       "2  [UPDATE] WIBTA if I give away my tickets out o...  \n",
       "3                 Hey, we found this picture of you!  \n",
       "4  Read this if you were directed to the front pa...  "
      ]
     },
     "execution_count": 26,
     "metadata": {},
     "output_type": "execute_result"
    }
   ],
   "source": [
    "df[['subreddit', 'selftext', 'title']].head()"
   ]
  },
  {
   "cell_type": "code",
   "execution_count": 126,
   "id": "da252c26-162e-4c55-85c3-347106035bae",
   "metadata": {},
   "outputs": [
    {
     "data": {
      "text/plain": [
       "524"
      ]
     },
     "execution_count": 126,
     "metadata": {},
     "output_type": "execute_result"
    }
   ],
   "source": [
    "res20.status_code"
   ]
  },
  {
   "cell_type": "code",
   "execution_count": 123,
   "id": "7e6dcdcb-04da-49ec-bb17-f6a65055e2a9",
   "metadata": {},
   "outputs": [
    {
     "ename": "JSONDecodeError",
     "evalue": "Expecting value: line 1 column 1 (char 0)",
     "output_type": "error",
     "traceback": [
      "\u001b[0;31m---------------------------------------------------------------------------\u001b[0m",
      "\u001b[0;31mJSONDecodeError\u001b[0m                           Traceback (most recent call last)",
      "File \u001b[0;32m~/opt/anaconda3/lib/python3.9/site-packages/requests/models.py:971\u001b[0m, in \u001b[0;36mResponse.json\u001b[0;34m(self, **kwargs)\u001b[0m\n\u001b[1;32m    970\u001b[0m \u001b[38;5;28;01mtry\u001b[39;00m:\n\u001b[0;32m--> 971\u001b[0m     \u001b[38;5;28;01mreturn\u001b[39;00m \u001b[43mcomplexjson\u001b[49m\u001b[38;5;241;43m.\u001b[39;49m\u001b[43mloads\u001b[49m\u001b[43m(\u001b[49m\u001b[38;5;28;43mself\u001b[39;49m\u001b[38;5;241;43m.\u001b[39;49m\u001b[43mtext\u001b[49m\u001b[43m,\u001b[49m\u001b[43m \u001b[49m\u001b[38;5;241;43m*\u001b[39;49m\u001b[38;5;241;43m*\u001b[39;49m\u001b[43mkwargs\u001b[49m\u001b[43m)\u001b[49m\n\u001b[1;32m    972\u001b[0m \u001b[38;5;28;01mexcept\u001b[39;00m JSONDecodeError \u001b[38;5;28;01mas\u001b[39;00m e:\n\u001b[1;32m    973\u001b[0m     \u001b[38;5;66;03m# Catch JSON-related errors and raise as requests.JSONDecodeError\u001b[39;00m\n\u001b[1;32m    974\u001b[0m     \u001b[38;5;66;03m# This aliases json.JSONDecodeError and simplejson.JSONDecodeError\u001b[39;00m\n",
      "File \u001b[0;32m~/opt/anaconda3/lib/python3.9/json/__init__.py:346\u001b[0m, in \u001b[0;36mloads\u001b[0;34m(s, cls, object_hook, parse_float, parse_int, parse_constant, object_pairs_hook, **kw)\u001b[0m\n\u001b[1;32m    343\u001b[0m \u001b[38;5;28;01mif\u001b[39;00m (\u001b[38;5;28mcls\u001b[39m \u001b[38;5;129;01mis\u001b[39;00m \u001b[38;5;28;01mNone\u001b[39;00m \u001b[38;5;129;01mand\u001b[39;00m object_hook \u001b[38;5;129;01mis\u001b[39;00m \u001b[38;5;28;01mNone\u001b[39;00m \u001b[38;5;129;01mand\u001b[39;00m\n\u001b[1;32m    344\u001b[0m         parse_int \u001b[38;5;129;01mis\u001b[39;00m \u001b[38;5;28;01mNone\u001b[39;00m \u001b[38;5;129;01mand\u001b[39;00m parse_float \u001b[38;5;129;01mis\u001b[39;00m \u001b[38;5;28;01mNone\u001b[39;00m \u001b[38;5;129;01mand\u001b[39;00m\n\u001b[1;32m    345\u001b[0m         parse_constant \u001b[38;5;129;01mis\u001b[39;00m \u001b[38;5;28;01mNone\u001b[39;00m \u001b[38;5;129;01mand\u001b[39;00m object_pairs_hook \u001b[38;5;129;01mis\u001b[39;00m \u001b[38;5;28;01mNone\u001b[39;00m \u001b[38;5;129;01mand\u001b[39;00m \u001b[38;5;129;01mnot\u001b[39;00m kw):\n\u001b[0;32m--> 346\u001b[0m     \u001b[38;5;28;01mreturn\u001b[39;00m \u001b[43m_default_decoder\u001b[49m\u001b[38;5;241;43m.\u001b[39;49m\u001b[43mdecode\u001b[49m\u001b[43m(\u001b[49m\u001b[43ms\u001b[49m\u001b[43m)\u001b[49m\n\u001b[1;32m    347\u001b[0m \u001b[38;5;28;01mif\u001b[39;00m \u001b[38;5;28mcls\u001b[39m \u001b[38;5;129;01mis\u001b[39;00m \u001b[38;5;28;01mNone\u001b[39;00m:\n",
      "File \u001b[0;32m~/opt/anaconda3/lib/python3.9/json/decoder.py:337\u001b[0m, in \u001b[0;36mJSONDecoder.decode\u001b[0;34m(self, s, _w)\u001b[0m\n\u001b[1;32m    333\u001b[0m \u001b[38;5;124;03m\"\"\"Return the Python representation of ``s`` (a ``str`` instance\u001b[39;00m\n\u001b[1;32m    334\u001b[0m \u001b[38;5;124;03mcontaining a JSON document).\u001b[39;00m\n\u001b[1;32m    335\u001b[0m \n\u001b[1;32m    336\u001b[0m \u001b[38;5;124;03m\"\"\"\u001b[39;00m\n\u001b[0;32m--> 337\u001b[0m obj, end \u001b[38;5;241m=\u001b[39m \u001b[38;5;28;43mself\u001b[39;49m\u001b[38;5;241;43m.\u001b[39;49m\u001b[43mraw_decode\u001b[49m\u001b[43m(\u001b[49m\u001b[43ms\u001b[49m\u001b[43m,\u001b[49m\u001b[43m \u001b[49m\u001b[43midx\u001b[49m\u001b[38;5;241;43m=\u001b[39;49m\u001b[43m_w\u001b[49m\u001b[43m(\u001b[49m\u001b[43ms\u001b[49m\u001b[43m,\u001b[49m\u001b[43m \u001b[49m\u001b[38;5;241;43m0\u001b[39;49m\u001b[43m)\u001b[49m\u001b[38;5;241;43m.\u001b[39;49m\u001b[43mend\u001b[49m\u001b[43m(\u001b[49m\u001b[43m)\u001b[49m\u001b[43m)\u001b[49m\n\u001b[1;32m    338\u001b[0m end \u001b[38;5;241m=\u001b[39m _w(s, end)\u001b[38;5;241m.\u001b[39mend()\n",
      "File \u001b[0;32m~/opt/anaconda3/lib/python3.9/json/decoder.py:355\u001b[0m, in \u001b[0;36mJSONDecoder.raw_decode\u001b[0;34m(self, s, idx)\u001b[0m\n\u001b[1;32m    354\u001b[0m \u001b[38;5;28;01mexcept\u001b[39;00m \u001b[38;5;167;01mStopIteration\u001b[39;00m \u001b[38;5;28;01mas\u001b[39;00m err:\n\u001b[0;32m--> 355\u001b[0m     \u001b[38;5;28;01mraise\u001b[39;00m JSONDecodeError(\u001b[38;5;124m\"\u001b[39m\u001b[38;5;124mExpecting value\u001b[39m\u001b[38;5;124m\"\u001b[39m, s, err\u001b[38;5;241m.\u001b[39mvalue) \u001b[38;5;28;01mfrom\u001b[39;00m \u001b[38;5;28mNone\u001b[39m\n\u001b[1;32m    356\u001b[0m \u001b[38;5;28;01mreturn\u001b[39;00m obj, end\n",
      "\u001b[0;31mJSONDecodeError\u001b[0m: Expecting value: line 1 column 1 (char 0)",
      "\nDuring handling of the above exception, another exception occurred:\n",
      "\u001b[0;31mJSONDecodeError\u001b[0m                           Traceback (most recent call last)",
      "Cell \u001b[0;32mIn[123], line 7\u001b[0m\n\u001b[1;32m      1\u001b[0m params20 \u001b[38;5;241m=\u001b[39m {\u001b[38;5;124m'\u001b[39m\u001b[38;5;124msubreddit\u001b[39m\u001b[38;5;124m'\u001b[39m: \u001b[38;5;124m'\u001b[39m\u001b[38;5;124mAITA\u001b[39m\u001b[38;5;124m'\u001b[39m,\n\u001b[1;32m      2\u001b[0m          \u001b[38;5;124m'\u001b[39m\u001b[38;5;124msize\u001b[39m\u001b[38;5;124m'\u001b[39m: \u001b[38;5;241m1000\u001b[39m,\n\u001b[1;32m      3\u001b[0m          \u001b[38;5;124m'\u001b[39m\u001b[38;5;124mbefore\u001b[39m\u001b[38;5;124m'\u001b[39m: \u001b[38;5;241m1662322488\u001b[39m}\n\u001b[1;32m      5\u001b[0m res20 \u001b[38;5;241m=\u001b[39m requests\u001b[38;5;241m.\u001b[39mget(url, params2)\n\u001b[0;32m----> 7\u001b[0m data20 \u001b[38;5;241m=\u001b[39m \u001b[43mres20\u001b[49m\u001b[38;5;241;43m.\u001b[39;49m\u001b[43mjson\u001b[49m\u001b[43m(\u001b[49m\u001b[43m)\u001b[49m\n\u001b[1;32m      9\u001b[0m posts20 \u001b[38;5;241m=\u001b[39m data20[\u001b[38;5;124m'\u001b[39m\u001b[38;5;124mdata\u001b[39m\u001b[38;5;124m'\u001b[39m]\n",
      "File \u001b[0;32m~/opt/anaconda3/lib/python3.9/site-packages/requests/models.py:975\u001b[0m, in \u001b[0;36mResponse.json\u001b[0;34m(self, **kwargs)\u001b[0m\n\u001b[1;32m    971\u001b[0m     \u001b[38;5;28;01mreturn\u001b[39;00m complexjson\u001b[38;5;241m.\u001b[39mloads(\u001b[38;5;28mself\u001b[39m\u001b[38;5;241m.\u001b[39mtext, \u001b[38;5;241m*\u001b[39m\u001b[38;5;241m*\u001b[39mkwargs)\n\u001b[1;32m    972\u001b[0m \u001b[38;5;28;01mexcept\u001b[39;00m JSONDecodeError \u001b[38;5;28;01mas\u001b[39;00m e:\n\u001b[1;32m    973\u001b[0m     \u001b[38;5;66;03m# Catch JSON-related errors and raise as requests.JSONDecodeError\u001b[39;00m\n\u001b[1;32m    974\u001b[0m     \u001b[38;5;66;03m# This aliases json.JSONDecodeError and simplejson.JSONDecodeError\u001b[39;00m\n\u001b[0;32m--> 975\u001b[0m     \u001b[38;5;28;01mraise\u001b[39;00m RequestsJSONDecodeError(e\u001b[38;5;241m.\u001b[39mmsg, e\u001b[38;5;241m.\u001b[39mdoc, e\u001b[38;5;241m.\u001b[39mpos)\n",
      "\u001b[0;31mJSONDecodeError\u001b[0m: Expecting value: line 1 column 1 (char 0)"
     ]
    }
   ],
   "source": [
    "params20 = {'subreddit': 'AITA',\n",
    "         'size': 1000,\n",
    "         'before': 1662322488}\n",
    "\n",
    "res20 = requests.get(url, params2)\n",
    "\n",
    "data20 = res20.json()\n",
    "\n",
    "posts20 = data20['data']"
   ]
  },
  {
   "cell_type": "code",
   "execution_count": 124,
   "id": "f8e98c0d-655c-4276-b658-cdb3c6bc7caa",
   "metadata": {},
   "outputs": [
    {
     "data": {
      "text/plain": [
       "1"
      ]
     },
     "execution_count": 124,
     "metadata": {},
     "output_type": "execute_result"
    }
   ],
   "source": [
    "len(posts20)"
   ]
  },
  {
   "cell_type": "code",
   "execution_count": null,
   "id": "072c38e1-b7c6-4c6a-a3a1-6f0da376a113",
   "metadata": {},
   "outputs": [],
   "source": []
  },
  {
   "cell_type": "code",
   "execution_count": 81,
   "id": "2385bca6-c4be-46f8-bdd0-d0c501d80e77",
   "metadata": {},
   "outputs": [],
   "source": [
    "params2 = {'subreddit': 'AITA',\n",
    "         'size': 1000,\n",
    "         'after': 1662322488}\n",
    "\n",
    "res2 = requests.get(url, params2)\n",
    "\n",
    "data2 = res2.json()\n",
    "\n",
    "posts2 = data2['data']"
   ]
  },
  {
   "cell_type": "code",
   "execution_count": 82,
   "id": "6d185cf6-4b64-4313-b92a-124fad1f3f53",
   "metadata": {},
   "outputs": [],
   "source": [
    "df2 = pd.DataFrame(posts2)"
   ]
  },
  {
   "cell_type": "code",
   "execution_count": 83,
   "id": "81dabdd4-ab40-4f92-ad77-32b350a68f6f",
   "metadata": {},
   "outputs": [
    {
     "data": {
      "text/html": [
       "<div>\n",
       "<style scoped>\n",
       "    .dataframe tbody tr th:only-of-type {\n",
       "        vertical-align: middle;\n",
       "    }\n",
       "\n",
       "    .dataframe tbody tr th {\n",
       "        vertical-align: top;\n",
       "    }\n",
       "\n",
       "    .dataframe thead th {\n",
       "        text-align: right;\n",
       "    }\n",
       "</style>\n",
       "<table border=\"1\" class=\"dataframe\">\n",
       "  <thead>\n",
       "    <tr style=\"text-align: right;\">\n",
       "      <th></th>\n",
       "      <th>subreddit</th>\n",
       "      <th>selftext</th>\n",
       "      <th>title</th>\n",
       "    </tr>\n",
       "  </thead>\n",
       "  <tbody>\n",
       "    <tr>\n",
       "      <th>0</th>\n",
       "      <td>u_I-read-aita</td>\n",
       "      <td></td>\n",
       "      <td>My cousin got his super hero skin refunded the...</td>\n",
       "    </tr>\n",
       "  </tbody>\n",
       "</table>\n",
       "</div>"
      ],
      "text/plain": [
       "       subreddit selftext                                              title\n",
       "0  u_I-read-aita           My cousin got his super hero skin refunded the..."
      ]
     },
     "execution_count": 83,
     "metadata": {},
     "output_type": "execute_result"
    }
   ],
   "source": [
    "df2[['subreddit', 'selftext', 'title']].head()"
   ]
  },
  {
   "cell_type": "code",
   "execution_count": 109,
   "id": "300ce894-6bc5-4fe1-984e-588bb07fbf00",
   "metadata": {},
   "outputs": [
    {
     "data": {
      "text/plain": [
       "1"
      ]
     },
     "execution_count": 109,
     "metadata": {},
     "output_type": "execute_result"
    }
   ],
   "source": [
    "len(posts2)"
   ]
  },
  {
   "cell_type": "code",
   "execution_count": 115,
   "id": "3770c40e-c3c3-47ea-b758-d4601788da08",
   "metadata": {},
   "outputs": [
    {
     "data": {
      "text/plain": [
       "200"
      ]
     },
     "execution_count": 115,
     "metadata": {},
     "output_type": "execute_result"
    }
   ],
   "source": [
    "res2.status_code"
   ]
  },
  {
   "cell_type": "code",
   "execution_count": 96,
   "id": "1d1aba47-681f-440d-8ebb-c9a357376b20",
   "metadata": {},
   "outputs": [],
   "source": [
    "params3 = {'subreddit': 'AITA',\n",
    "         'size': 1000,\n",
    "         'after': 1651946522}\n",
    "\n",
    "res3 = requests.get(url, params2)\n",
    "\n",
    "data3 = res3.json()\n",
    "\n",
    "posts3 = data3['data']"
   ]
  },
  {
   "cell_type": "code",
   "execution_count": 97,
   "id": "5ea305db-f058-4819-b15d-267536ab994f",
   "metadata": {},
   "outputs": [],
   "source": [
    "df3 = pd.DataFrame(posts3)"
   ]
  },
  {
   "cell_type": "code",
   "execution_count": 98,
   "id": "052a83a7-3f45-4072-b244-1da0c115af6b",
   "metadata": {},
   "outputs": [
    {
     "data": {
      "text/html": [
       "<div>\n",
       "<style scoped>\n",
       "    .dataframe tbody tr th:only-of-type {\n",
       "        vertical-align: middle;\n",
       "    }\n",
       "\n",
       "    .dataframe tbody tr th {\n",
       "        vertical-align: top;\n",
       "    }\n",
       "\n",
       "    .dataframe thead th {\n",
       "        text-align: right;\n",
       "    }\n",
       "</style>\n",
       "<table border=\"1\" class=\"dataframe\">\n",
       "  <thead>\n",
       "    <tr style=\"text-align: right;\">\n",
       "      <th></th>\n",
       "      <th>subreddit</th>\n",
       "      <th>selftext</th>\n",
       "      <th>title</th>\n",
       "    </tr>\n",
       "  </thead>\n",
       "  <tbody>\n",
       "    <tr>\n",
       "      <th>0</th>\n",
       "      <td>u_I-read-aita</td>\n",
       "      <td></td>\n",
       "      <td>My cousin got his super hero skin refunded the...</td>\n",
       "    </tr>\n",
       "  </tbody>\n",
       "</table>\n",
       "</div>"
      ],
      "text/plain": [
       "       subreddit selftext                                              title\n",
       "0  u_I-read-aita           My cousin got his super hero skin refunded the..."
      ]
     },
     "execution_count": 98,
     "metadata": {},
     "output_type": "execute_result"
    }
   ],
   "source": [
    "df3[['subreddit', 'selftext', 'title']].head()"
   ]
  },
  {
   "cell_type": "code",
   "execution_count": 99,
   "id": "23868665-b058-4782-9553-2d3892c75611",
   "metadata": {},
   "outputs": [
    {
     "data": {
      "text/plain": [
       "1"
      ]
     },
     "execution_count": 99,
     "metadata": {},
     "output_type": "execute_result"
    }
   ],
   "source": [
    "len(posts3)"
   ]
  },
  {
   "cell_type": "markdown",
   "id": "d9b95ff6-f74a-4c50-8e9e-1056ebb9fbf1",
   "metadata": {},
   "source": [
    "#### Save current amount to csv"
   ]
  },
  {
   "cell_type": "code",
   "execution_count": 116,
   "id": "3b53ea82-1f08-4f12-8996-88beb017d44d",
   "metadata": {},
   "outputs": [],
   "source": [
    "aita1 = pd.concat([df, df2, df3], ignore_index=True)\n",
    "\n",
    "aita1.to_csv('aita1.csv', index=False)"
   ]
  },
  {
   "cell_type": "markdown",
   "id": "55e757fa-983f-4cfe-9afc-d22db8ab4c5f",
   "metadata": {},
   "source": [
    "## Data from r/relationship_advice"
   ]
  },
  {
   "cell_type": "code",
   "execution_count": 45,
   "id": "cfb356f7-e667-46bf-b3f0-97a70e51dc04",
   "metadata": {},
   "outputs": [],
   "source": [
    "paramsra = {'subreddit': 'relationship_advice',\n",
    "         'size': 1000}\n",
    "\n",
    "resra = requests.get(url, paramsra)\n",
    "\n",
    "datara = resra.json()\n",
    "\n",
    "postsra = datara['data']"
   ]
  },
  {
   "cell_type": "code",
   "execution_count": 46,
   "id": "d7b1bca8-e0bd-4a85-af97-262f0d507bdb",
   "metadata": {},
   "outputs": [],
   "source": [
    "dfra = pd.DataFrame(postsra)"
   ]
  },
  {
   "cell_type": "code",
   "execution_count": 47,
   "id": "720245e6-dfb0-4005-83da-fe0bf6a2e972",
   "metadata": {},
   "outputs": [
    {
     "data": {
      "text/html": [
       "<div>\n",
       "<style scoped>\n",
       "    .dataframe tbody tr th:only-of-type {\n",
       "        vertical-align: middle;\n",
       "    }\n",
       "\n",
       "    .dataframe tbody tr th {\n",
       "        vertical-align: top;\n",
       "    }\n",
       "\n",
       "    .dataframe thead th {\n",
       "        text-align: right;\n",
       "    }\n",
       "</style>\n",
       "<table border=\"1\" class=\"dataframe\">\n",
       "  <thead>\n",
       "    <tr style=\"text-align: right;\">\n",
       "      <th></th>\n",
       "      <th>subreddit</th>\n",
       "      <th>selftext</th>\n",
       "      <th>title</th>\n",
       "    </tr>\n",
       "  </thead>\n",
       "  <tbody>\n",
       "    <tr>\n",
       "      <th>0</th>\n",
       "      <td>relationship_advice</td>\n",
       "      <td>[removed]</td>\n",
       "      <td>Completely confused</td>\n",
       "    </tr>\n",
       "    <tr>\n",
       "      <th>1</th>\n",
       "      <td>relationship_advice</td>\n",
       "      <td>[removed]</td>\n",
       "      <td>My (21F) boyfriend (26M) is angry</td>\n",
       "    </tr>\n",
       "    <tr>\n",
       "      <th>2</th>\n",
       "      <td>relationship_advice</td>\n",
       "      <td>[removed]</td>\n",
       "      <td>My (30NB) close friend (30M) sent me a song ab...</td>\n",
       "    </tr>\n",
       "    <tr>\n",
       "      <th>3</th>\n",
       "      <td>relationship_advice</td>\n",
       "      <td>[removed]</td>\n",
       "      <td>25M worried about being a bad boyfriend to 24F...</td>\n",
       "    </tr>\n",
       "    <tr>\n",
       "      <th>4</th>\n",
       "      <td>relationship_advice</td>\n",
       "      <td>[removed]</td>\n",
       "      <td>my girlfriend told me she is asexual</td>\n",
       "    </tr>\n",
       "  </tbody>\n",
       "</table>\n",
       "</div>"
      ],
      "text/plain": [
       "             subreddit   selftext  \\\n",
       "0  relationship_advice  [removed]   \n",
       "1  relationship_advice  [removed]   \n",
       "2  relationship_advice  [removed]   \n",
       "3  relationship_advice  [removed]   \n",
       "4  relationship_advice  [removed]   \n",
       "\n",
       "                                               title  \n",
       "0                                Completely confused  \n",
       "1                  My (21F) boyfriend (26M) is angry  \n",
       "2  My (30NB) close friend (30M) sent me a song ab...  \n",
       "3  25M worried about being a bad boyfriend to 24F...  \n",
       "4               my girlfriend told me she is asexual  "
      ]
     },
     "execution_count": 47,
     "metadata": {},
     "output_type": "execute_result"
    }
   ],
   "source": [
    "dfra[['subreddit', 'selftext', 'title']].head()"
   ]
  },
  {
   "cell_type": "code",
   "execution_count": 108,
   "id": "d8448e7d-383a-44b1-9cfa-617c43a41108",
   "metadata": {},
   "outputs": [
    {
     "data": {
      "text/plain": [
       "999"
      ]
     },
     "execution_count": 108,
     "metadata": {},
     "output_type": "execute_result"
    }
   ],
   "source": [
    "len(postsra)"
   ]
  },
  {
   "cell_type": "code",
   "execution_count": 87,
   "id": "538ad2de-13f7-4841-b859-d9edf407ee1d",
   "metadata": {},
   "outputs": [],
   "source": [
    "paramsra2 = {'subreddit': 'relationship_advice',\n",
    "         'size': 1000,\n",
    "             'after': 1682290490}\n",
    "\n",
    "resra2 = requests.get(url, paramsra2)\n",
    "\n",
    "datara2 = resra2.json()\n",
    "\n",
    "postsra2 = datara2['data']"
   ]
  },
  {
   "cell_type": "code",
   "execution_count": 88,
   "id": "0d2802f4-99ab-47bc-87eb-da17487ce3cd",
   "metadata": {},
   "outputs": [],
   "source": [
    "dfra2 = pd.DataFrame(postsra2)"
   ]
  },
  {
   "cell_type": "code",
   "execution_count": 89,
   "id": "92b2460e-0812-4c5e-a75e-b2d6ba45a4de",
   "metadata": {},
   "outputs": [
    {
     "data": {
      "text/html": [
       "<div>\n",
       "<style scoped>\n",
       "    .dataframe tbody tr th:only-of-type {\n",
       "        vertical-align: middle;\n",
       "    }\n",
       "\n",
       "    .dataframe tbody tr th {\n",
       "        vertical-align: top;\n",
       "    }\n",
       "\n",
       "    .dataframe thead th {\n",
       "        text-align: right;\n",
       "    }\n",
       "</style>\n",
       "<table border=\"1\" class=\"dataframe\">\n",
       "  <thead>\n",
       "    <tr style=\"text-align: right;\">\n",
       "      <th></th>\n",
       "      <th>subreddit</th>\n",
       "      <th>selftext</th>\n",
       "      <th>title</th>\n",
       "    </tr>\n",
       "  </thead>\n",
       "  <tbody>\n",
       "    <tr>\n",
       "      <th>0</th>\n",
       "      <td>relationship_advice</td>\n",
       "      <td>[removed]</td>\n",
       "      <td>Dating apps have made me feel so unlovable? Wh...</td>\n",
       "    </tr>\n",
       "    <tr>\n",
       "      <th>1</th>\n",
       "      <td>relationship_advice</td>\n",
       "      <td>I'm gonna try to explain this in as few words ...</td>\n",
       "      <td>I (18 M) had a friend (18 F) over last night a...</td>\n",
       "    </tr>\n",
       "    <tr>\n",
       "      <th>2</th>\n",
       "      <td>relationship_advice</td>\n",
       "      <td>[removed]</td>\n",
       "      <td>Advice for Breaking up while still in love (F ...</td>\n",
       "    </tr>\n",
       "    <tr>\n",
       "      <th>3</th>\n",
       "      <td>relationship_advice</td>\n",
       "      <td>[removed]</td>\n",
       "      <td>Ruined everything by getting too drunk</td>\n",
       "    </tr>\n",
       "    <tr>\n",
       "      <th>4</th>\n",
       "      <td>relationship_advice</td>\n",
       "      <td>[removed]</td>\n",
       "      <td>She (33f) wanted more from me (35m) and now we...</td>\n",
       "    </tr>\n",
       "  </tbody>\n",
       "</table>\n",
       "</div>"
      ],
      "text/plain": [
       "             subreddit                                           selftext  \\\n",
       "0  relationship_advice                                          [removed]   \n",
       "1  relationship_advice  I'm gonna try to explain this in as few words ...   \n",
       "2  relationship_advice                                          [removed]   \n",
       "3  relationship_advice                                          [removed]   \n",
       "4  relationship_advice                                          [removed]   \n",
       "\n",
       "                                               title  \n",
       "0  Dating apps have made me feel so unlovable? Wh...  \n",
       "1  I (18 M) had a friend (18 F) over last night a...  \n",
       "2  Advice for Breaking up while still in love (F ...  \n",
       "3             Ruined everything by getting too drunk  \n",
       "4  She (33f) wanted more from me (35m) and now we...  "
      ]
     },
     "execution_count": 89,
     "metadata": {},
     "output_type": "execute_result"
    }
   ],
   "source": [
    "dfra2[['subreddit', 'selftext', 'title']].head()"
   ]
  },
  {
   "cell_type": "code",
   "execution_count": 107,
   "id": "74213fed-c226-4a01-bf7b-180754ac2ffc",
   "metadata": {},
   "outputs": [
    {
     "data": {
      "text/plain": [
       "51"
      ]
     },
     "execution_count": 107,
     "metadata": {},
     "output_type": "execute_result"
    }
   ],
   "source": [
    "len(postsra2)"
   ]
  },
  {
   "cell_type": "code",
   "execution_count": 90,
   "id": "2514ede7-29be-42d0-81c1-f40853bbed65",
   "metadata": {},
   "outputs": [],
   "source": [
    "paramsra3 = {'subreddit': 'relationship_advice',\n",
    "         'size': 1000,\n",
    "             'after': 1682290434}\n",
    "\n",
    "resra3 = requests.get(url, paramsra3)\n",
    "\n",
    "datara3 = resra3.json()\n",
    "\n",
    "postsra3 = datara3['data']"
   ]
  },
  {
   "cell_type": "code",
   "execution_count": 91,
   "id": "eed5bb1b-bcb0-4f8b-99e8-fcd450d40712",
   "metadata": {},
   "outputs": [],
   "source": [
    "dfra3 = pd.DataFrame(postsra3)"
   ]
  },
  {
   "cell_type": "code",
   "execution_count": 92,
   "id": "5aa706d6-ed51-4fc0-a39a-2d1d37524a5a",
   "metadata": {},
   "outputs": [
    {
     "data": {
      "text/html": [
       "<div>\n",
       "<style scoped>\n",
       "    .dataframe tbody tr th:only-of-type {\n",
       "        vertical-align: middle;\n",
       "    }\n",
       "\n",
       "    .dataframe tbody tr th {\n",
       "        vertical-align: top;\n",
       "    }\n",
       "\n",
       "    .dataframe thead th {\n",
       "        text-align: right;\n",
       "    }\n",
       "</style>\n",
       "<table border=\"1\" class=\"dataframe\">\n",
       "  <thead>\n",
       "    <tr style=\"text-align: right;\">\n",
       "      <th></th>\n",
       "      <th>subreddit</th>\n",
       "      <th>selftext</th>\n",
       "      <th>title</th>\n",
       "    </tr>\n",
       "  </thead>\n",
       "  <tbody>\n",
       "    <tr>\n",
       "      <th>0</th>\n",
       "      <td>relationship_advice</td>\n",
       "      <td>[removed]</td>\n",
       "      <td>I (20m) am curious about seeing nudes from my ...</td>\n",
       "    </tr>\n",
       "    <tr>\n",
       "      <th>1</th>\n",
       "      <td>relationship_advice</td>\n",
       "      <td>[removed]</td>\n",
       "      <td>Dating apps have made me feel so unlovable? Wh...</td>\n",
       "    </tr>\n",
       "    <tr>\n",
       "      <th>2</th>\n",
       "      <td>relationship_advice</td>\n",
       "      <td>I'm gonna try to explain this in as few words ...</td>\n",
       "      <td>I (18 M) had a friend (18 F) over last night a...</td>\n",
       "    </tr>\n",
       "    <tr>\n",
       "      <th>3</th>\n",
       "      <td>relationship_advice</td>\n",
       "      <td>[removed]</td>\n",
       "      <td>Advice for Breaking up while still in love (F ...</td>\n",
       "    </tr>\n",
       "    <tr>\n",
       "      <th>4</th>\n",
       "      <td>relationship_advice</td>\n",
       "      <td>[removed]</td>\n",
       "      <td>Ruined everything by getting too drunk</td>\n",
       "    </tr>\n",
       "  </tbody>\n",
       "</table>\n",
       "</div>"
      ],
      "text/plain": [
       "             subreddit                                           selftext  \\\n",
       "0  relationship_advice                                          [removed]   \n",
       "1  relationship_advice                                          [removed]   \n",
       "2  relationship_advice  I'm gonna try to explain this in as few words ...   \n",
       "3  relationship_advice                                          [removed]   \n",
       "4  relationship_advice                                          [removed]   \n",
       "\n",
       "                                               title  \n",
       "0  I (20m) am curious about seeing nudes from my ...  \n",
       "1  Dating apps have made me feel so unlovable? Wh...  \n",
       "2  I (18 M) had a friend (18 F) over last night a...  \n",
       "3  Advice for Breaking up while still in love (F ...  \n",
       "4             Ruined everything by getting too drunk  "
      ]
     },
     "execution_count": 92,
     "metadata": {},
     "output_type": "execute_result"
    }
   ],
   "source": [
    "dfra3[['subreddit', 'selftext', 'title']].head()"
   ]
  },
  {
   "cell_type": "code",
   "execution_count": 106,
   "id": "4b212022-ffd5-49c4-86ab-19452ec66826",
   "metadata": {},
   "outputs": [
    {
     "data": {
      "text/plain": [
       "53"
      ]
     },
     "execution_count": 106,
     "metadata": {},
     "output_type": "execute_result"
    }
   ],
   "source": [
    "len(postsra3)"
   ]
  },
  {
   "cell_type": "code",
   "execution_count": 101,
   "id": "9971c947-8395-4c1f-abaa-9f8b3841ee0e",
   "metadata": {},
   "outputs": [],
   "source": [
    "paramsra4 = {'subreddit': 'relationship_advice',\n",
    "         'size': 3000,\n",
    "             'after': 1682290434}\n",
    "\n",
    "resra4 = requests.get(url, paramsra4)\n",
    "\n",
    "datara4 = resra4.json()"
   ]
  },
  {
   "cell_type": "code",
   "execution_count": 102,
   "id": "6bdf870a-f14e-47bc-b850-383307640932",
   "metadata": {},
   "outputs": [],
   "source": [
    "dfra4 = pd.DataFrame(postsra4)"
   ]
  },
  {
   "cell_type": "code",
   "execution_count": 103,
   "id": "9e844c1d-39b0-4a6e-8546-b9b0c523cc1c",
   "metadata": {},
   "outputs": [
    {
     "data": {
      "text/html": [
       "<div>\n",
       "<style scoped>\n",
       "    .dataframe tbody tr th:only-of-type {\n",
       "        vertical-align: middle;\n",
       "    }\n",
       "\n",
       "    .dataframe tbody tr th {\n",
       "        vertical-align: top;\n",
       "    }\n",
       "\n",
       "    .dataframe thead th {\n",
       "        text-align: right;\n",
       "    }\n",
       "</style>\n",
       "<table border=\"1\" class=\"dataframe\">\n",
       "  <thead>\n",
       "    <tr style=\"text-align: right;\">\n",
       "      <th></th>\n",
       "      <th>subreddit</th>\n",
       "      <th>selftext</th>\n",
       "      <th>title</th>\n",
       "    </tr>\n",
       "  </thead>\n",
       "  <tbody>\n",
       "    <tr>\n",
       "      <th>0</th>\n",
       "      <td>relationship_advice</td>\n",
       "      <td>[removed]</td>\n",
       "      <td>I f(19) broke up with my boyfriend m(19) but I...</td>\n",
       "    </tr>\n",
       "    <tr>\n",
       "      <th>1</th>\n",
       "      <td>relationship_advice</td>\n",
       "      <td>[removed]</td>\n",
       "      <td>Ex (36f) stalked me (35m)</td>\n",
       "    </tr>\n",
       "    <tr>\n",
       "      <th>2</th>\n",
       "      <td>relationship_advice</td>\n",
       "      <td>[removed]</td>\n",
       "      <td>libido problems</td>\n",
       "    </tr>\n",
       "    <tr>\n",
       "      <th>3</th>\n",
       "      <td>relationship_advice</td>\n",
       "      <td>[removed]</td>\n",
       "      <td>Devastated after failed situationship</td>\n",
       "    </tr>\n",
       "    <tr>\n",
       "      <th>4</th>\n",
       "      <td>relationship_advice</td>\n",
       "      <td>[removed]</td>\n",
       "      <td>I (40f) need advice on 42m</td>\n",
       "    </tr>\n",
       "  </tbody>\n",
       "</table>\n",
       "</div>"
      ],
      "text/plain": [
       "             subreddit   selftext  \\\n",
       "0  relationship_advice  [removed]   \n",
       "1  relationship_advice  [removed]   \n",
       "2  relationship_advice  [removed]   \n",
       "3  relationship_advice  [removed]   \n",
       "4  relationship_advice  [removed]   \n",
       "\n",
       "                                               title  \n",
       "0  I f(19) broke up with my boyfriend m(19) but I...  \n",
       "1                          Ex (36f) stalked me (35m)  \n",
       "2                                    libido problems  \n",
       "3              Devastated after failed situationship  \n",
       "4                         I (40f) need advice on 42m  "
      ]
     },
     "execution_count": 103,
     "metadata": {},
     "output_type": "execute_result"
    }
   ],
   "source": [
    "dfra4[['subreddit', 'selftext', 'title']].head()"
   ]
  },
  {
   "cell_type": "code",
   "execution_count": 105,
   "id": "2e7ea813-3f38-4535-a6d9-56479254ff3f",
   "metadata": {},
   "outputs": [
    {
     "data": {
      "text/plain": [
       "27"
      ]
     },
     "execution_count": 105,
     "metadata": {},
     "output_type": "execute_result"
    }
   ],
   "source": [
    "len(postsra4)"
   ]
  },
  {
   "cell_type": "code",
   "execution_count": 104,
   "id": "405a9f73-ed88-4162-ac41-88225673c03b",
   "metadata": {},
   "outputs": [
    {
     "data": {
      "text/plain": [
       "200"
      ]
     },
     "execution_count": 104,
     "metadata": {},
     "output_type": "execute_result"
    }
   ],
   "source": [
    "resra.status_code"
   ]
  },
  {
   "cell_type": "markdown",
   "id": "f81b5835-e9a6-406e-8711-cc7b2799342a",
   "metadata": {},
   "source": [
    "#### Save current amount to csv"
   ]
  },
  {
   "cell_type": "code",
   "execution_count": 117,
   "id": "a67fef20-390a-4a57-8f8a-a86cbb640ad9",
   "metadata": {},
   "outputs": [],
   "source": [
    "ra1 = pd.concat([dfra, dfra2, dfra3, dfra4], ignore_index=True)\n",
    "\n",
    "ra1.to_csv('ra1.csv', index=False)"
   ]
  },
  {
   "cell_type": "markdown",
   "id": "b6231633-9e20-4313-a9da-f920c9289b5b",
   "metadata": {},
   "source": [
    "#### Combined csv "
   ]
  },
  {
   "cell_type": "code",
   "execution_count": 118,
   "id": "55a0f264-6124-423b-9825-20804c75ba5f",
   "metadata": {},
   "outputs": [],
   "source": [
    "combined1 = pd.concat([aita1, ra1], ignore_index=True)\n",
    "\n",
    "combined1.to_csv('combined1.csv', index=False)"
   ]
  },
  {
   "cell_type": "code",
   "execution_count": 119,
   "id": "7a469e7d-7c31-45bd-880b-34ae9b7a935d",
   "metadata": {},
   "outputs": [
    {
     "data": {
      "text/plain": [
       "(1002, 100)"
      ]
     },
     "execution_count": 119,
     "metadata": {},
     "output_type": "execute_result"
    }
   ],
   "source": [
    "aita1.shape"
   ]
  },
  {
   "cell_type": "code",
   "execution_count": 120,
   "id": "3fb01f7f-e168-4fda-8b02-c5d05be31b45",
   "metadata": {},
   "outputs": [
    {
     "data": {
      "text/plain": [
       "(1130, 89)"
      ]
     },
     "execution_count": 120,
     "metadata": {},
     "output_type": "execute_result"
    }
   ],
   "source": [
    "ra1.shape"
   ]
  },
  {
   "cell_type": "code",
   "execution_count": 121,
   "id": "d6d13d88-e1a9-412b-9faa-539a7d9dbf7e",
   "metadata": {},
   "outputs": [
    {
     "data": {
      "text/plain": [
       "(2132, 100)"
      ]
     },
     "execution_count": 121,
     "metadata": {},
     "output_type": "execute_result"
    }
   ],
   "source": [
    "combined1.shape"
   ]
  },
  {
   "cell_type": "code",
   "execution_count": null,
   "id": "3259f124-fe1d-40d0-9254-1429f8bf768b",
   "metadata": {},
   "outputs": [],
   "source": []
  }
 ],
 "metadata": {
  "kernelspec": {
   "display_name": "Python 3 (ipykernel)",
   "language": "python",
   "name": "python3"
  },
  "language_info": {
   "codemirror_mode": {
    "name": "ipython",
    "version": 3
   },
   "file_extension": ".py",
   "mimetype": "text/x-python",
   "name": "python",
   "nbconvert_exporter": "python",
   "pygments_lexer": "ipython3",
   "version": "3.9.16"
  }
 },
 "nbformat": 4,
 "nbformat_minor": 5
}
