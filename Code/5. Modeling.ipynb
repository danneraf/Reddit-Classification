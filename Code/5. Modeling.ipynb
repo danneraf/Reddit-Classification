{
 "cells": [
  {
   "cell_type": "markdown",
   "id": "a0968d42-f1fb-47d6-ad9f-1338be4c5477",
   "metadata": {
    "tags": []
   },
   "source": [
    "# Modeling"
   ]
  },
  {
   "cell_type": "code",
   "execution_count": 53,
   "id": "c5f7105a-600d-42ca-8688-acc01b69e654",
   "metadata": {},
   "outputs": [],
   "source": [
    "import requests\n",
    "import pandas as pd\n",
    "import numpy as np \n",
    "import seaborn as sns\n",
    "import matplotlib.pyplot as plt\n",
    "pd.options.display.max_columns = None\n",
    "pd.options.display.max_rows = None\n",
    "import re\n",
    "import nltk\n",
    "from nltk.tokenize import word_tokenize\n",
    "from nltk.corpus import stopwords\n",
    "from sklearn.feature_extraction.text import TfidfVectorizer, CountVectorizer, TfidfTransformer\n",
    "from sklearn.model_selection import train_test_split, cross_val_score, GridSearchCV\n",
    "from sklearn.linear_model import LogisticRegression\n",
    "from sklearn.metrics import confusion_matrix, ConfusionMatrixDisplay, f1_score\n",
    "from sklearn import metrics\n",
    "from sklearn.metrics import r2_score\n",
    "from sklearn.metrics import mean_squared_error\n",
    "from sklearn.feature_selection import RFE\n",
    "from sklearn.pipeline import Pipeline\n",
    "from sklearn.tree import DecisionTreeRegressor, DecisionTreeClassifier"
   ]
  },
  {
   "cell_type": "code",
   "execution_count": 54,
   "id": "874349a0-9076-4146-94a5-740a6b6cb810",
   "metadata": {},
   "outputs": [],
   "source": [
    "reddit = pd.read_csv('../datasets/reddit_final.csv')\n",
    "reddit = reddit.drop(columns=['Unnamed: 0']) "
   ]
  },
  {
   "cell_type": "code",
   "execution_count": 55,
   "id": "989cfe6b-f95b-4fd1-b2f9-450efe1c7af6",
   "metadata": {},
   "outputs": [
    {
     "data": {
      "text/html": [
       "<div>\n",
       "<style scoped>\n",
       "    .dataframe tbody tr th:only-of-type {\n",
       "        vertical-align: middle;\n",
       "    }\n",
       "\n",
       "    .dataframe tbody tr th {\n",
       "        vertical-align: top;\n",
       "    }\n",
       "\n",
       "    .dataframe thead th {\n",
       "        text-align: right;\n",
       "    }\n",
       "</style>\n",
       "<table border=\"1\" class=\"dataframe\">\n",
       "  <thead>\n",
       "    <tr style=\"text-align: right;\">\n",
       "      <th></th>\n",
       "      <th>subreddit</th>\n",
       "      <th>selftext</th>\n",
       "      <th>gilded</th>\n",
       "      <th>title</th>\n",
       "      <th>subreddit_name_prefixed</th>\n",
       "      <th>hide_score</th>\n",
       "      <th>upvote_ratio</th>\n",
       "      <th>total_awards_received</th>\n",
       "      <th>is_reddit_media_domain</th>\n",
       "      <th>score</th>\n",
       "      <th>author_premium</th>\n",
       "      <th>edited</th>\n",
       "      <th>author_flair_richtext</th>\n",
       "      <th>is_self</th>\n",
       "      <th>author_flair_type</th>\n",
       "      <th>domain</th>\n",
       "      <th>allow_live_comments</th>\n",
       "      <th>archived</th>\n",
       "      <th>no_follow</th>\n",
       "      <th>is_crosspostable</th>\n",
       "      <th>over_18</th>\n",
       "      <th>awarders</th>\n",
       "      <th>can_gild</th>\n",
       "      <th>locked</th>\n",
       "      <th>treatment_tags</th>\n",
       "      <th>is_robot_indexable</th>\n",
       "      <th>num_comments</th>\n",
       "      <th>send_replies</th>\n",
       "      <th>author_patreon_flair</th>\n",
       "      <th>subreddit_subscribers</th>\n",
       "      <th>created_utc</th>\n",
       "      <th>num_crossposts</th>\n",
       "      <th>retrieved_utc</th>\n",
       "      <th>updated_utc</th>\n",
       "      <th>author_cakeday</th>\n",
       "      <th>subreddit_id_t5_2r0cn</th>\n",
       "      <th>removed_by_automod_filtered</th>\n",
       "      <th>removed_by_deleted</th>\n",
       "      <th>removed_by_reddit</th>\n",
       "      <th>removed_by_nan</th>\n",
       "      <th>thumbnail_nsfw</th>\n",
       "      <th>thumbnail_self</th>\n",
       "      <th>gildings_{}</th>\n",
       "      <th>title_word_count</th>\n",
       "      <th>selftext_word_count</th>\n",
       "      <th>subreddit_id_t5_2txi0n</th>\n",
       "      <th>subreddit_id_t5_37roo</th>\n",
       "      <th>subreddit_id_t5_5iegdf</th>\n",
       "      <th>subreddit_id_t5_62obsy</th>\n",
       "      <th>subreddit_id_t5_6anqhn</th>\n",
       "      <th>subreddit_id_t5_6r00uj</th>\n",
       "      <th>subreddit_type_restricted</th>\n",
       "      <th>subreddit_type_user</th>\n",
       "      <th>thumbnail_other</th>\n",
       "      <th>gildings_'gid_2': 0</th>\n",
       "      <th>gildings_'gid_3': 0}</th>\n",
       "      <th>gildings_{'gid_1': 0</th>\n",
       "      <th>gildings_{'gid_1': 1}</th>\n",
       "      <th>gildings_{'gid_1': 4}</th>\n",
       "    </tr>\n",
       "  </thead>\n",
       "  <tbody>\n",
       "    <tr>\n",
       "      <th>0</th>\n",
       "      <td>1</td>\n",
       "      <td>['none']</td>\n",
       "      <td>0</td>\n",
       "      <td>['Im', 'f', 'love', 'fiancés', 'm', 'best', 'f...</td>\n",
       "      <td>1.0</td>\n",
       "      <td>1.0</td>\n",
       "      <td>1.0</td>\n",
       "      <td>0</td>\n",
       "      <td>1</td>\n",
       "      <td>1</td>\n",
       "      <td>1.0</td>\n",
       "      <td>1</td>\n",
       "      <td>1</td>\n",
       "      <td>1</td>\n",
       "      <td>1</td>\n",
       "      <td>1</td>\n",
       "      <td>1.0</td>\n",
       "      <td>1</td>\n",
       "      <td>1</td>\n",
       "      <td>1</td>\n",
       "      <td>1</td>\n",
       "      <td>1</td>\n",
       "      <td>1</td>\n",
       "      <td>0</td>\n",
       "      <td>1</td>\n",
       "      <td>1</td>\n",
       "      <td>1</td>\n",
       "      <td>1</td>\n",
       "      <td>1</td>\n",
       "      <td>8871630</td>\n",
       "      <td>1682548523</td>\n",
       "      <td>0</td>\n",
       "      <td>1682548537</td>\n",
       "      <td>1682548538</td>\n",
       "      <td>0</td>\n",
       "      <td>1.0</td>\n",
       "      <td>0.0</td>\n",
       "      <td>0</td>\n",
       "      <td>0.0</td>\n",
       "      <td>0</td>\n",
       "      <td>0</td>\n",
       "      <td>1</td>\n",
       "      <td>1</td>\n",
       "      <td>10</td>\n",
       "      <td>1</td>\n",
       "      <td>0.0</td>\n",
       "      <td>0.0</td>\n",
       "      <td>0.0</td>\n",
       "      <td>0.0</td>\n",
       "      <td>0.0</td>\n",
       "      <td>0.0</td>\n",
       "      <td>0.0</td>\n",
       "      <td>0.0</td>\n",
       "      <td>0.0</td>\n",
       "      <td>0.0</td>\n",
       "      <td>0.0</td>\n",
       "      <td>0.0</td>\n",
       "      <td>0.0</td>\n",
       "      <td>0.0</td>\n",
       "    </tr>\n",
       "    <tr>\n",
       "      <th>1</th>\n",
       "      <td>1</td>\n",
       "      <td>['none']</td>\n",
       "      <td>0</td>\n",
       "      <td>['relationship', 'run', 'course']</td>\n",
       "      <td>1.0</td>\n",
       "      <td>1.0</td>\n",
       "      <td>1.0</td>\n",
       "      <td>0</td>\n",
       "      <td>1</td>\n",
       "      <td>1</td>\n",
       "      <td>1.0</td>\n",
       "      <td>1</td>\n",
       "      <td>1</td>\n",
       "      <td>1</td>\n",
       "      <td>1</td>\n",
       "      <td>1</td>\n",
       "      <td>1.0</td>\n",
       "      <td>1</td>\n",
       "      <td>1</td>\n",
       "      <td>1</td>\n",
       "      <td>1</td>\n",
       "      <td>1</td>\n",
       "      <td>1</td>\n",
       "      <td>0</td>\n",
       "      <td>1</td>\n",
       "      <td>1</td>\n",
       "      <td>1</td>\n",
       "      <td>1</td>\n",
       "      <td>1</td>\n",
       "      <td>8871630</td>\n",
       "      <td>1682548522</td>\n",
       "      <td>0</td>\n",
       "      <td>1682548537</td>\n",
       "      <td>1682548538</td>\n",
       "      <td>0</td>\n",
       "      <td>1.0</td>\n",
       "      <td>0.0</td>\n",
       "      <td>0</td>\n",
       "      <td>0.0</td>\n",
       "      <td>0</td>\n",
       "      <td>0</td>\n",
       "      <td>1</td>\n",
       "      <td>1</td>\n",
       "      <td>6</td>\n",
       "      <td>1</td>\n",
       "      <td>0.0</td>\n",
       "      <td>0.0</td>\n",
       "      <td>0.0</td>\n",
       "      <td>0.0</td>\n",
       "      <td>0.0</td>\n",
       "      <td>0.0</td>\n",
       "      <td>0.0</td>\n",
       "      <td>0.0</td>\n",
       "      <td>0.0</td>\n",
       "      <td>0.0</td>\n",
       "      <td>0.0</td>\n",
       "      <td>0.0</td>\n",
       "      <td>0.0</td>\n",
       "      <td>0.0</td>\n",
       "    </tr>\n",
       "    <tr>\n",
       "      <th>2</th>\n",
       "      <td>1</td>\n",
       "      <td>['TLDR', 'mother', 'want', 'go', 'contact', 'a...</td>\n",
       "      <td>0</td>\n",
       "      <td>['mom', 'f', 'want', 'm', 'cut', 'contact', 'a...</td>\n",
       "      <td>1.0</td>\n",
       "      <td>1.0</td>\n",
       "      <td>1.0</td>\n",
       "      <td>0</td>\n",
       "      <td>1</td>\n",
       "      <td>1</td>\n",
       "      <td>1.0</td>\n",
       "      <td>1</td>\n",
       "      <td>1</td>\n",
       "      <td>1</td>\n",
       "      <td>1</td>\n",
       "      <td>1</td>\n",
       "      <td>1.0</td>\n",
       "      <td>1</td>\n",
       "      <td>1</td>\n",
       "      <td>0</td>\n",
       "      <td>1</td>\n",
       "      <td>1</td>\n",
       "      <td>1</td>\n",
       "      <td>1</td>\n",
       "      <td>1</td>\n",
       "      <td>0</td>\n",
       "      <td>1</td>\n",
       "      <td>1</td>\n",
       "      <td>1</td>\n",
       "      <td>8871627</td>\n",
       "      <td>1682548515</td>\n",
       "      <td>0</td>\n",
       "      <td>1682548528</td>\n",
       "      <td>1682548529</td>\n",
       "      <td>0</td>\n",
       "      <td>1.0</td>\n",
       "      <td>0.0</td>\n",
       "      <td>0</td>\n",
       "      <td>0.0</td>\n",
       "      <td>1</td>\n",
       "      <td>0</td>\n",
       "      <td>1</td>\n",
       "      <td>1</td>\n",
       "      <td>15</td>\n",
       "      <td>700</td>\n",
       "      <td>0.0</td>\n",
       "      <td>0.0</td>\n",
       "      <td>0.0</td>\n",
       "      <td>0.0</td>\n",
       "      <td>0.0</td>\n",
       "      <td>0.0</td>\n",
       "      <td>0.0</td>\n",
       "      <td>0.0</td>\n",
       "      <td>0.0</td>\n",
       "      <td>0.0</td>\n",
       "      <td>0.0</td>\n",
       "      <td>0.0</td>\n",
       "      <td>0.0</td>\n",
       "      <td>0.0</td>\n",
       "    </tr>\n",
       "  </tbody>\n",
       "</table>\n",
       "</div>"
      ],
      "text/plain": [
       "   subreddit                                           selftext  gilded  \\\n",
       "0          1                                           ['none']       0   \n",
       "1          1                                           ['none']       0   \n",
       "2          1  ['TLDR', 'mother', 'want', 'go', 'contact', 'a...       0   \n",
       "\n",
       "                                               title  subreddit_name_prefixed  \\\n",
       "0  ['Im', 'f', 'love', 'fiancés', 'm', 'best', 'f...                      1.0   \n",
       "1                  ['relationship', 'run', 'course']                      1.0   \n",
       "2  ['mom', 'f', 'want', 'm', 'cut', 'contact', 'a...                      1.0   \n",
       "\n",
       "   hide_score  upvote_ratio  total_awards_received  is_reddit_media_domain  \\\n",
       "0         1.0           1.0                      0                       1   \n",
       "1         1.0           1.0                      0                       1   \n",
       "2         1.0           1.0                      0                       1   \n",
       "\n",
       "   score  author_premium  edited  author_flair_richtext  is_self  \\\n",
       "0      1             1.0       1                      1        1   \n",
       "1      1             1.0       1                      1        1   \n",
       "2      1             1.0       1                      1        1   \n",
       "\n",
       "   author_flair_type  domain  allow_live_comments  archived  no_follow  \\\n",
       "0                  1       1                  1.0         1          1   \n",
       "1                  1       1                  1.0         1          1   \n",
       "2                  1       1                  1.0         1          1   \n",
       "\n",
       "   is_crosspostable  over_18  awarders  can_gild  locked  treatment_tags  \\\n",
       "0                 1        1         1         1       0               1   \n",
       "1                 1        1         1         1       0               1   \n",
       "2                 0        1         1         1       1               1   \n",
       "\n",
       "   is_robot_indexable  num_comments  send_replies  author_patreon_flair  \\\n",
       "0                   1             1             1                     1   \n",
       "1                   1             1             1                     1   \n",
       "2                   0             1             1                     1   \n",
       "\n",
       "   subreddit_subscribers  created_utc  num_crossposts  retrieved_utc  \\\n",
       "0                8871630   1682548523               0     1682548537   \n",
       "1                8871630   1682548522               0     1682548537   \n",
       "2                8871627   1682548515               0     1682548528   \n",
       "\n",
       "   updated_utc  author_cakeday  subreddit_id_t5_2r0cn  \\\n",
       "0   1682548538               0                    1.0   \n",
       "1   1682548538               0                    1.0   \n",
       "2   1682548529               0                    1.0   \n",
       "\n",
       "   removed_by_automod_filtered  removed_by_deleted  removed_by_reddit  \\\n",
       "0                          0.0                   0                0.0   \n",
       "1                          0.0                   0                0.0   \n",
       "2                          0.0                   0                0.0   \n",
       "\n",
       "   removed_by_nan  thumbnail_nsfw  thumbnail_self  gildings_{}  \\\n",
       "0               0               0               1            1   \n",
       "1               0               0               1            1   \n",
       "2               1               0               1            1   \n",
       "\n",
       "   title_word_count  selftext_word_count  subreddit_id_t5_2txi0n  \\\n",
       "0                10                    1                     0.0   \n",
       "1                 6                    1                     0.0   \n",
       "2                15                  700                     0.0   \n",
       "\n",
       "   subreddit_id_t5_37roo  subreddit_id_t5_5iegdf  subreddit_id_t5_62obsy  \\\n",
       "0                    0.0                     0.0                     0.0   \n",
       "1                    0.0                     0.0                     0.0   \n",
       "2                    0.0                     0.0                     0.0   \n",
       "\n",
       "   subreddit_id_t5_6anqhn  subreddit_id_t5_6r00uj  subreddit_type_restricted  \\\n",
       "0                     0.0                     0.0                        0.0   \n",
       "1                     0.0                     0.0                        0.0   \n",
       "2                     0.0                     0.0                        0.0   \n",
       "\n",
       "   subreddit_type_user  thumbnail_other  gildings_'gid_2': 0  \\\n",
       "0                  0.0              0.0                  0.0   \n",
       "1                  0.0              0.0                  0.0   \n",
       "2                  0.0              0.0                  0.0   \n",
       "\n",
       "   gildings_'gid_3': 0}  gildings_{'gid_1': 0  gildings_{'gid_1': 1}  \\\n",
       "0                   0.0                   0.0                    0.0   \n",
       "1                   0.0                   0.0                    0.0   \n",
       "2                   0.0                   0.0                    0.0   \n",
       "\n",
       "   gildings_{'gid_1': 4}  \n",
       "0                    0.0  \n",
       "1                    0.0  \n",
       "2                    0.0  "
      ]
     },
     "execution_count": 55,
     "metadata": {},
     "output_type": "execute_result"
    }
   ],
   "source": [
    "reddit.head(3)"
   ]
  },
  {
   "cell_type": "code",
   "execution_count": 56,
   "id": "40253f91-9e1d-4971-ad47-8da007d48390",
   "metadata": {},
   "outputs": [
    {
     "data": {
      "text/plain": [
       "(5998, 59)"
      ]
     },
     "execution_count": 56,
     "metadata": {},
     "output_type": "execute_result"
    }
   ],
   "source": [
    "reddit.shape"
   ]
  },
  {
   "cell_type": "markdown",
   "id": "3a111f52-a0cf-42a8-82cd-5313c70bd7f2",
   "metadata": {},
   "source": [
    "## Train-Test-Split"
   ]
  },
  {
   "cell_type": "code",
   "execution_count": 57,
   "id": "18599dd8-4122-4081-a5da-fa8c7574fd5e",
   "metadata": {},
   "outputs": [],
   "source": [
    "X = reddit['title']\n",
    "y = reddit['subreddit']"
   ]
  },
  {
   "cell_type": "code",
   "execution_count": 58,
   "id": "1586b0af-21f5-4510-9ab8-a729c660d374",
   "metadata": {},
   "outputs": [],
   "source": [
    "X_train, X_test, y_train, y_test = train_test_split(X, y, test_size=0.3, random_state=42, stratify=y)"
   ]
  },
  {
   "cell_type": "markdown",
   "id": "1cd565bd-3243-4e4d-b63f-4971c4597293",
   "metadata": {},
   "source": [
    "## Vectorizing  "
   ]
  },
  {
   "cell_type": "markdown",
   "id": "6bd740d4-e5bd-4cfb-bdb4-ab6e59cb26ac",
   "metadata": {},
   "source": [
    "tfidf = TfidfVectorizer()"
   ]
  },
  {
   "cell_type": "markdown",
   "id": "cab1d8a3-bd78-4aba-b7e5-c8c94aea2a51",
   "metadata": {},
   "source": [
    "X_train_tfidf = tfidf.fit_transform(X_train)\n",
    "X_test_tfidf = tfidf.transform(X_test)"
   ]
  },
  {
   "cell_type": "markdown",
   "id": "41f6e877-c0ac-41da-8f6e-a4e01e32feed",
   "metadata": {},
   "source": [
    "## Baseline "
   ]
  },
  {
   "cell_type": "code",
   "execution_count": 59,
   "id": "f014e662-9d8f-40f8-ac83-f07af9155baa",
   "metadata": {},
   "outputs": [
    {
     "data": {
      "text/plain": [
       "0.5001667222407469"
      ]
     },
     "execution_count": 59,
     "metadata": {},
     "output_type": "execute_result"
    }
   ],
   "source": [
    "baseline_accuracy = reddit['subreddit'].value_counts(normalize=True).max()\n",
    "baseline_accuracy"
   ]
  },
  {
   "cell_type": "markdown",
   "id": "3b9189fb-f9ef-4ed4-a2b7-3d43fe445a83",
   "metadata": {},
   "source": [
    "y_train.subreddit.value_counts(normalize=True)"
   ]
  },
  {
   "cell_type": "markdown",
   "id": "ca6a31b9-9b90-484d-95ce-c8cd09d1b091",
   "metadata": {},
   "source": [
    "The baseline model predicts AITA because it has more posts, and is accurate around 50.01% of the time "
   ]
  },
  {
   "cell_type": "markdown",
   "id": "3b9a57c9-d2c5-4f0b-8741-24f030a02ac8",
   "metadata": {},
   "source": [
    "## Logistic Regression with Titles "
   ]
  },
  {
   "cell_type": "markdown",
   "id": "afe57295-99e8-4097-8f5b-8ac1b7542f4f",
   "metadata": {},
   "source": [
    "#### Pipeline"
   ]
  },
  {
   "cell_type": "code",
   "execution_count": 60,
   "id": "e79c1c23-310e-4b94-a625-16a6890abd93",
   "metadata": {},
   "outputs": [],
   "source": [
    "# Define pipeline\n",
    "pipeline = Pipeline([\n",
    "    ('tfidf', TfidfVectorizer(stop_words='english')),\n",
    "    ('lr', LogisticRegression(random_state=42))\n",
    "])"
   ]
  },
  {
   "cell_type": "code",
   "execution_count": 61,
   "id": "b3ce1160-84a3-43ef-96ee-ba22ccdf5a22",
   "metadata": {},
   "outputs": [],
   "source": [
    "pipeline.fit(X_train, y_train);"
   ]
  },
  {
   "cell_type": "code",
   "execution_count": 62,
   "id": "b0922a99-f1dc-4589-a769-6cfdb12f3466",
   "metadata": {},
   "outputs": [
    {
     "data": {
      "text/plain": [
       "0.9504523639334218"
      ]
     },
     "execution_count": 62,
     "metadata": {},
     "output_type": "execute_result"
    }
   ],
   "source": [
    "cross_val_score(pipeline, X_train, y_train, cv=3).mean()"
   ]
  },
  {
   "cell_type": "markdown",
   "id": "1cfe2cfe-57ae-4333-a255-7f67ebb8940e",
   "metadata": {},
   "source": [
    "The cross validation score is high (0.95), meaning it should do well on new data. The model so far is able to predict the subreddit of 95% of the posts."
   ]
  },
  {
   "cell_type": "code",
   "execution_count": 63,
   "id": "8d026fe8-d019-46bf-be68-40a8e3e93e72",
   "metadata": {},
   "outputs": [
    {
     "name": "stdout",
     "output_type": "stream",
     "text": [
      "Train: 0.9735588375416865\n",
      "Test: 0.9555555555555556\n"
     ]
    }
   ],
   "source": [
    "print(f'Train: {pipeline.score(X_train, y_train)}')\n",
    "print(f'Test: {pipeline.score(X_test, y_test)}')"
   ]
  },
  {
   "cell_type": "markdown",
   "id": "09141ca5-7bbe-4ea2-88a5-10a37bedc91d",
   "metadata": {},
   "source": [
    "The model has a high accuracy score on both the training set (97.4%) and the test set (95.6%), which shows that the model is performing well on both datasets and is not overfitting much on the training data."
   ]
  },
  {
   "cell_type": "markdown",
   "id": "ac488d64-f520-4216-a520-a62f0387e750",
   "metadata": {},
   "source": [
    "#### Hyperparameters "
   ]
  },
  {
   "cell_type": "markdown",
   "id": "f760491b-80a1-4a6f-9aa6-b5963aa56343",
   "metadata": {},
   "source": [
    "##### Set hyperparameters \n",
    "param_grid = {\n",
    "    'tfidf__max_df': [0.25, 0.5, 0.75],\n",
    "    'tfidf__min_df': [1, 2, 5, 10, 20],\n",
    "    'tfidf__max_features': [100, 200, 500, 1000, 1500, 2000],\n",
    "    'lr__C': [0.1, 1, 10, 11, 12, 15, 20, 30],\n",
    "    'lr__penalty': ['l2'], #tried l1 and got a warning, l2 was listed as best \n",
    "    'lr__solver': ['lbfgs', 'liblinear', 'sag', 'saga'],\n",
    "    'lr__max_iter': [100, 250, 500, 750, 1000]\n",
    "}\n",
    "\n",
    "##### Perform grid search\n",
    "grid_search = GridSearchCV(pipeline, param_grid=param_grid, cv=3, n_jobs=-1)\n",
    "grid_search.fit(X_train, y_train)\n",
    "\n",
    "##### Print best hyperparameters\n",
    "print(f\"Best hyperparameters: {grid_search.best_params_}\")\n",
    "\n",
    "##### Print training and testing accuracy with best hyperparameters\n",
    "print(f\"Train accuracy: {grid_search.best_score_}\")\n",
    "print(f\"Test accuracy: {grid_search.score(X_test, y_test)}\")"
   ]
  },
  {
   "cell_type": "markdown",
   "id": "e133bd63-61f3-4f4c-a3e6-e2e2f4672019",
   "metadata": {},
   "source": [
    "I made the first hyperparameter a markdown cell because it gave a lot of convergence warnings "
   ]
  },
  {
   "cell_type": "markdown",
   "id": "db4e303b-9b80-40cb-a816-81980556afff",
   "metadata": {},
   "source": [
    "First hyperparameters:\n",
    "\n",
    "Best hyperparameters: {'lr__C': 10, 'lr__max_iter': 100, 'lr__penalty': 'l2', 'lr__solver': 'lbfgs', 'tfidf__max_df': 0.5, 'tfidf__max_features': 2000, 'tfidf__min_df': 1}\n",
    "Train accuracy: 0.9702246502603901\n",
    "Test accuracy: 0.9711111111111111"
   ]
  },
  {
   "cell_type": "code",
   "execution_count": 64,
   "id": "49de21e3-48d7-4996-ba3b-199dcfdd037a",
   "metadata": {},
   "outputs": [
    {
     "name": "stdout",
     "output_type": "stream",
     "text": [
      "Best hyperparameters: {'lr__C': 10, 'lr__max_iter': 100, 'lr__penalty': 'l2', 'lr__solver': 'lbfgs', 'tfidf__max_df': 0.5, 'tfidf__max_features': 2900, 'tfidf__min_df': 1}\n",
      "Train accuracy: 0.9721302631131081\n",
      "Test accuracy: 0.9744444444444444\n"
     ]
    }
   ],
   "source": [
    "# Set hyperparameters \n",
    "param_grid2 = {\n",
    "    'tfidf__max_df': [0.4, 0.5, 0.55],\n",
    "    'tfidf__min_df': [1],\n",
    "    'tfidf__max_features': [2000, 2500, 2900, 3000],\n",
    "    'lr__C': [10],\n",
    "    'lr__penalty': ['l2'], #tried l1 and got a warning, l2 was listed as best \n",
    "    'lr__solver': ['lbfgs', 'liblinear', 'sag', 'saga'],\n",
    "    'lr__max_iter': [100, 250, 500]\n",
    "}\n",
    "\n",
    "# Perform grid search\n",
    "grid_search2 = GridSearchCV(pipeline, param_grid=param_grid2, cv=3, n_jobs=-1)\n",
    "grid_search2.fit(X_train, y_train)\n",
    "\n",
    "# Print best hyperparameters\n",
    "print(f\"Best hyperparameters: {grid_search2.best_params_}\")\n",
    "\n",
    "# Print training and testing accuracy with best hyperparameters\n",
    "print(f\"Train accuracy: {grid_search2.best_score_}\")\n",
    "print(f\"Test accuracy: {grid_search2.score(X_test, y_test)}\")"
   ]
  },
  {
   "cell_type": "code",
   "execution_count": 65,
   "id": "4f0c38e4-a111-44b6-b843-9de5091715e8",
   "metadata": {},
   "outputs": [
    {
     "name": "stdout",
     "output_type": "stream",
     "text": [
      "Best hyperparameters: {'lr__C': 10, 'lr__max_iter': 100, 'lr__penalty': 'l2', 'lr__solver': 'lbfgs', 'tfidf__max_df': 0.49, 'tfidf__max_features': 2900, 'tfidf__min_df': 1}\n",
      "Train accuracy: 0.9721302631131081\n",
      "Test accuracy: 0.9744444444444444\n"
     ]
    }
   ],
   "source": [
    "# Set hyperparameters \n",
    "param_grid3 = {\n",
    "    'tfidf__max_df': [0.49, 0.5, 0.51],\n",
    "    'tfidf__min_df': [1],\n",
    "    'tfidf__max_features': [2900, 2950, 2975, 2990],\n",
    "    'lr__C': [10],\n",
    "    'lr__penalty': ['l2'], #tried l1 and got a warning, l2 was listed as best \n",
    "    'lr__solver': ['lbfgs'],\n",
    "    'lr__max_iter': [100, 101, 110]\n",
    "}\n",
    "\n",
    "# Perform grid search\n",
    "grid_search3 = GridSearchCV(pipeline, param_grid=param_grid3, cv=3, n_jobs=-1)\n",
    "grid_search3.fit(X_train, y_train)\n",
    "\n",
    "# Print best hyperparameters\n",
    "print(f\"Best hyperparameters: {grid_search3.best_params_}\")\n",
    "\n",
    "# Print training and testing accuracy with best hyperparameters\n",
    "print(f\"Train accuracy: {grid_search3.best_score_}\")\n",
    "print(f\"Test accuracy: {grid_search3.score(X_test, y_test)}\")"
   ]
  },
  {
   "cell_type": "code",
   "execution_count": 66,
   "id": "6217797e-b95c-416f-a37f-cb0880f0925b",
   "metadata": {},
   "outputs": [
    {
     "name": "stdout",
     "output_type": "stream",
     "text": [
      "Best hyperparameters: {'lr__C': 10, 'lr__max_iter': 100, 'lr__penalty': 'l2', 'lr__solver': 'lbfgs', 'tfidf__max_df': 0.49, 'tfidf__max_features': 2900, 'tfidf__min_df': 1}\n",
      "Train accuracy: 0.9721302631131081\n",
      "Test accuracy: 0.9744444444444444\n"
     ]
    }
   ],
   "source": [
    "# Set hyperparameters \n",
    "param_grid4 = {\n",
    "    'tfidf__max_df': [0.49, 0.48, 0.47, 0.46],\n",
    "    'tfidf__min_df': [1],\n",
    "    'tfidf__max_features': [2900, 2850, 2875, 2825],\n",
    "    'lr__C': [10],\n",
    "    'lr__penalty': ['l2'], #tried l1 and got a warning, l2 was listed as best \n",
    "    'lr__solver': ['lbfgs'],\n",
    "    'lr__max_iter': [100]\n",
    "}\n",
    "\n",
    "# Perform grid search\n",
    "grid_search4 = GridSearchCV(pipeline, param_grid=param_grid4, cv=3, n_jobs=-1)\n",
    "grid_search4.fit(X_train, y_train)\n",
    "\n",
    "# Print best hyperparameters\n",
    "print(f\"Best hyperparameters: {grid_search4.best_params_}\")\n",
    "\n",
    "# Print training and testing accuracy with best hyperparameters\n",
    "print(f\"Train accuracy: {grid_search4.best_score_}\")\n",
    "print(f\"Test accuracy: {grid_search4.score(X_test, y_test)}\")"
   ]
  },
  {
   "cell_type": "markdown",
   "id": "61d95b58-9e8b-43f7-be67-361cbb4c9677",
   "metadata": {},
   "source": [
    "#### Best hyperparameters:"
   ]
  },
  {
   "cell_type": "code",
   "execution_count": 67,
   "id": "79b01a67-7637-446e-9036-2f9720324b8f",
   "metadata": {},
   "outputs": [
    {
     "name": "stdout",
     "output_type": "stream",
     "text": [
      "Best hyperparameters: {'lr__C': 10, 'lr__max_iter': 100, 'lr__penalty': 'l2', 'lr__solver': 'lbfgs', 'tfidf__max_df': 0.49, 'tfidf__max_features': 2900, 'tfidf__min_df': 1}\n",
      "Train accuracy: 0.9721302631131081\n",
      "Test accuracy: 0.9744444444444444\n"
     ]
    }
   ],
   "source": [
    "# Best\n",
    "# Set hyperparameters \n",
    "best_param_grid = {\n",
    "    'tfidf__max_df': [0.49],\n",
    "    'tfidf__min_df': [1],\n",
    "    'tfidf__max_features': [2900],\n",
    "    'lr__C': [10],\n",
    "    'lr__penalty': ['l2'], \n",
    "    'lr__solver': ['lbfgs'],\n",
    "    'lr__max_iter': [100]\n",
    "}\n",
    "\n",
    "# Perform grid search\n",
    "best_grid_search = GridSearchCV(pipeline, param_grid=best_param_grid, cv=3, n_jobs=-1)\n",
    "best_grid_search.fit(X_train, y_train)\n",
    "\n",
    "# Print best hyperparameters\n",
    "print(f\"Best hyperparameters: {best_grid_search.best_params_}\")\n",
    "\n",
    "# Print training and testing accuracy with best hyperparameters\n",
    "print(f\"Train accuracy: {best_grid_search.best_score_}\")\n",
    "print(f\"Test accuracy: {best_grid_search.score(X_test, y_test)}\")"
   ]
  },
  {
   "cell_type": "code",
   "execution_count": 68,
   "id": "95219918-49e6-47e0-a050-a8e171e5054b",
   "metadata": {},
   "outputs": [],
   "source": [
    "preds = best_grid_search.predict(X_test)"
   ]
  },
  {
   "cell_type": "code",
   "execution_count": 69,
   "id": "05fa41df-44cd-42b2-84cc-9f52532dd38c",
   "metadata": {},
   "outputs": [
    {
     "data": {
      "image/png": "[encoded data removed]",
      "text/plain": [
       "<Figure size 640x480 with 2 Axes>"
      ]
     },
     "metadata": {},
     "output_type": "display_data"
    }
   ],
   "source": [
    "ConfusionMatrixDisplay.from_estimator(best_grid_search, X_test, y_test, cmap='Blues');"
   ]
  },
  {
   "cell_type": "markdown",
   "id": "d4898b6a-50ed-455c-8907-6790f7dd184f",
   "metadata": {},
   "source": [
    "#### Confusion Matrix:\n",
    "\n",
    "##### Predicted AITA when actually Relationship Advice: 11\n",
    "##### Predicted AITA True: 865\n",
    "##### Predicted Relationship Advice when actually AITA: 35 \n",
    "##### Predicted Relationship Advice True: 889"
   ]
  },
  {
   "cell_type": "code",
   "execution_count": 70,
   "id": "eab199f7-1f97-4b1c-85f6-4933a96919cf",
   "metadata": {},
   "outputs": [
    {
     "data": {
      "text/plain": [
       "0.9747807017543859"
      ]
     },
     "execution_count": 70,
     "metadata": {},
     "output_type": "execute_result"
    }
   ],
   "source": [
    "f1_score(y_test, preds)"
   ]
  },
  {
   "cell_type": "markdown",
   "id": "244515a0-8291-4f54-ac54-1597e159e478",
   "metadata": {},
   "source": [
    "Based on the train and test accuracies and the f1-score all being ~ 97%, they show the model performs well in predicting the correct subreddit based on the titles in the training data as well as new, unseen data. The amount of false predictions are very low. It performs much better than the baseline of 50%."
   ]
  },
  {
   "cell_type": "markdown",
   "id": "c5bdb597-cbb2-4181-a964-a80b60347787",
   "metadata": {},
   "source": [
    "## Decision Tree with Titles "
   ]
  },
  {
   "cell_type": "markdown",
   "id": "384aba1f-9c07-45c9-8d1b-699d4faa99e5",
   "metadata": {},
   "source": [
    "#### Pipline "
   ]
  },
  {
   "cell_type": "code",
   "execution_count": 71,
   "id": "45da1331-e24f-4c81-9630-f3602e3f1ba2",
   "metadata": {},
   "outputs": [],
   "source": [
    "pipeline_tree = Pipeline([\n",
    "    ('tfidf', TfidfVectorizer(stop_words='english')),\n",
    "    ('dt', DecisionTreeClassifier(random_state=42))\n",
    "])"
   ]
  },
  {
   "cell_type": "code",
   "execution_count": 72,
   "id": "ed5bb4b5-2f08-4ac8-b977-5df90bb56462",
   "metadata": {},
   "outputs": [],
   "source": [
    "pipeline_tree.fit(X_train, y_train);"
   ]
  },
  {
   "cell_type": "code",
   "execution_count": 73,
   "id": "5b6dda3e-6628-4230-b6ba-2541be60cce6",
   "metadata": {},
   "outputs": [
    {
     "data": {
      "text/plain": [
       "0.9621248170461895"
      ]
     },
     "execution_count": 73,
     "metadata": {},
     "output_type": "execute_result"
    }
   ],
   "source": [
    "cross_val_score(pipeline_tree, X_train, y_train, cv=3).mean()"
   ]
  },
  {
   "cell_type": "markdown",
   "id": "6a279009-27f6-48ad-9a66-de9445893750",
   "metadata": {},
   "source": [
    "The cross validation score is higher than the logistic regression model (0.95), with a cross-val score of 0.96. The model so far is able to predict the subreddit of 96% of the posts."
   ]
  },
  {
   "cell_type": "code",
   "execution_count": 74,
   "id": "38d75e64-83fc-440c-b714-ec9710d4dbb8",
   "metadata": {},
   "outputs": [
    {
     "name": "stdout",
     "output_type": "stream",
     "text": [
      "Train: 0.9969032872796569\n",
      "Test: 0.9788888888888889\n"
     ]
    }
   ],
   "source": [
    "print(f'Train: {pipeline_tree.score(X_train, y_train)}')\n",
    "print(f'Test: {pipeline_tree.score(X_test, y_test)}')"
   ]
  },
  {
   "cell_type": "markdown",
   "id": "32bcba7a-c218-40e1-823a-0b6884769819",
   "metadata": {},
   "source": [
    "The model has a high accuracy score on both the training set (99.6%) and the test set (97.8%), which shows that the model is performing well on both datasets, but seems to be overfitting a little on the training data."
   ]
  },
  {
   "cell_type": "markdown",
   "id": "f500daed-918d-41b0-9291-480245d1cd78",
   "metadata": {},
   "source": [
    "#### Hyperparameters "
   ]
  },
  {
   "cell_type": "markdown",
   "id": "3826978a-c35d-40f0-a64b-1edd1c60475b",
   "metadata": {},
   "source": [
    "##### Set hyperparameters\n",
    "param_grid_tree = {\n",
    "    'tfidf__max_df': [0.49],\n",
    "    'tfidf__min_df': [1],\n",
    "    'tfidf__max_features': [2900],\n",
    "    'dt__max_depth': [5, 10, 15, 20, 25],\n",
    "    'dt__min_samples_split': [2, 5, 10, 20, 30],\n",
    "    'dt__min_samples_leaf': [1, 2, 5, 10, 20],\n",
    "    'dt__max_leaf_nodes': [10, 50, 100]\n",
    "}\n",
    "\n",
    "##### Perform grid search\n",
    "grid_search_tree = GridSearchCV(pipeline_tree, param_grid=param_grid_tree, cv=3, n_jobs=-1)\n",
    "grid_search_tree.fit(X_train, y_train)\n",
    "\n",
    "##### Print best hyperparameters\n",
    "print(f\"Best hyperparameters: {grid_search_tree.best_params_}\")\n",
    "\n",
    "##### Print training and testing accuracy with best hyperparameters\n",
    "print(f\"Train accuracy: {grid_search_tree.best_score_}\")\n",
    "print(f\"Test accuracy: {grid_search_tree.score(X_test, y_test)}\")"
   ]
  },
  {
   "cell_type": "markdown",
   "id": "fda79f2e-40e1-4715-833d-77860d2fc986",
   "metadata": {},
   "source": [
    "I set this as a markdown cell because it took a long time to run\n",
    "\n",
    "Best hyperparameters: {'dt__max_depth': 25, 'dt__max_leaf_nodes': 50, 'dt__min_samples_leaf': 2, 'dt__min_samples_split': 2, 'tfidf__max_df': 0.49, 'tfidf__max_features': 2900, 'tfidf__min_df': 1}\n",
    "Train accuracy: 0.9449734504237721\n",
    "Test accuracy: 0.9444444444444444"
   ]
  },
  {
   "cell_type": "code",
   "execution_count": 75,
   "id": "931ed98a-1a1f-4f3f-bcc2-b9adf3f88e03",
   "metadata": {},
   "outputs": [
    {
     "name": "stdout",
     "output_type": "stream",
     "text": [
      "Best hyperparameters: {'dt__max_depth': 30, 'dt__max_leaf_nodes': 45, 'dt__min_samples_leaf': 2, 'dt__min_samples_split': 2, 'tfidf__max_df': 0.49, 'tfidf__max_features': 2800, 'tfidf__min_df': 2}\n",
      "Train accuracy: 0.9456892678443786\n",
      "Test accuracy: 0.9422222222222222\n"
     ]
    }
   ],
   "source": [
    "# Set hyperparameters\n",
    "param_grid_tree2 = {\n",
    "    'tfidf__max_df': [0.49],\n",
    "    'tfidf__min_df': [2],\n",
    "    'tfidf__max_features': [2800, 2900, 3000],\n",
    "    'dt__max_depth': [25, 26, 27, 30],\n",
    "    'dt__min_samples_split': [2],\n",
    "    'dt__min_samples_leaf': [2],\n",
    "    'dt__max_leaf_nodes': [45, 50, 55]\n",
    "}\n",
    "\n",
    "# Perform grid search\n",
    "grid_search_tree2 = GridSearchCV(pipeline_tree, param_grid=param_grid_tree2, cv=3, n_jobs=-1)\n",
    "grid_search_tree2.fit(X_train, y_train)\n",
    "\n",
    "# Print best hyperparameters\n",
    "print(f\"Best hyperparameters: {grid_search_tree2.best_params_}\")\n",
    "\n",
    "# Print training and testing accuracy with best hyperparameters\n",
    "print(f\"Train accuracy: {grid_search_tree2.best_score_}\")\n",
    "print(f\"Test accuracy: {grid_search_tree2.score(X_test, y_test)}\")"
   ]
  },
  {
   "cell_type": "code",
   "execution_count": 76,
   "id": "5f233047-60c0-4235-a094-428697d4ac0c",
   "metadata": {},
   "outputs": [
    {
     "name": "stdout",
     "output_type": "stream",
     "text": [
      "Best hyperparameters: {'dt__max_depth': 50, 'dt__max_leaf_nodes': 45, 'dt__min_samples_leaf': 2, 'dt__min_samples_split': 2, 'tfidf__max_df': 0.49, 'tfidf__max_features': 2000, 'tfidf__min_df': 2}\n",
      "Train accuracy: 0.948785527077164\n",
      "Test accuracy: 0.9461111111111111\n"
     ]
    }
   ],
   "source": [
    "# Set hyperparameters\n",
    "param_grid_tree3 = {\n",
    "    'tfidf__max_df': [0.49],\n",
    "    'tfidf__min_df': [2],\n",
    "    'tfidf__max_features': [2000, 2500, 2800],\n",
    "    'dt__max_depth': [30, 40, 50],\n",
    "    'dt__min_samples_split': [2],\n",
    "    'dt__min_samples_leaf': [2],\n",
    "    'dt__max_leaf_nodes': [30, 40, 45]\n",
    "}\n",
    "\n",
    "# Perform grid search\n",
    "grid_search_tree3 = GridSearchCV(pipeline_tree, param_grid=param_grid_tree3, cv=3, n_jobs=-1)\n",
    "grid_search_tree3.fit(X_train, y_train)\n",
    "\n",
    "# Print best hyperparameters\n",
    "print(f\"Best hyperparameters: {grid_search_tree3.best_params_}\")\n",
    "\n",
    "# Print training and testing accuracy with best hyperparameters\n",
    "print(f\"Train accuracy: {grid_search_tree3.best_score_}\")\n",
    "print(f\"Test accuracy: {grid_search_tree3.score(X_test, y_test)}\")"
   ]
  },
  {
   "cell_type": "code",
   "execution_count": 77,
   "id": "f1a8a14d-d914-483c-91dd-f59795823715",
   "metadata": {},
   "outputs": [
    {
     "name": "stdout",
     "output_type": "stream",
     "text": [
      "Best hyperparameters: {'dt__max_depth': 50, 'dt__max_leaf_nodes': 45, 'dt__min_samples_leaf': 2, 'dt__min_samples_split': 2, 'tfidf__max_df': 0.49, 'tfidf__max_features': 2000, 'tfidf__min_df': 2}\n",
      "Train accuracy: 0.948785527077164\n",
      "Test accuracy: 0.9461111111111111\n"
     ]
    }
   ],
   "source": [
    "# Set hyperparameters\n",
    "param_grid_tree4 = {\n",
    "    'tfidf__max_df': [0.49],\n",
    "    'tfidf__min_df': [2],\n",
    "    'tfidf__max_features': [50, 100, 200, 1000, 2000],\n",
    "    'dt__max_depth': [50, 100, 200, 1000],\n",
    "    'dt__min_samples_split': [2],\n",
    "    'dt__min_samples_leaf': [2],\n",
    "    'dt__max_leaf_nodes': [44, 45, 46]\n",
    "}\n",
    "\n",
    "# Perform grid search\n",
    "grid_search_tree4 = GridSearchCV(pipeline_tree, param_grid=param_grid_tree4, cv=3, n_jobs=-1)\n",
    "grid_search_tree4.fit(X_train, y_train)\n",
    "\n",
    "# Print best hyperparameters\n",
    "print(f\"Best hyperparameters: {grid_search_tree4.best_params_}\")\n",
    "\n",
    "# Print training and testing accuracy with best hyperparameters\n",
    "print(f\"Train accuracy: {grid_search_tree4.best_score_}\")\n",
    "print(f\"Test accuracy: {grid_search_tree4.score(X_test, y_test)}\")"
   ]
  },
  {
   "cell_type": "markdown",
   "id": "646dd78d-441b-49b5-8c21-0405e47e2402",
   "metadata": {},
   "source": [
    "#### Best hyperparameters:"
   ]
  },
  {
   "cell_type": "code",
   "execution_count": 78,
   "id": "cfd05876-c5fe-413d-8a7f-052c2c938920",
   "metadata": {},
   "outputs": [
    {
     "name": "stdout",
     "output_type": "stream",
     "text": [
      "Best hyperparameters: {'dt__max_depth': 50, 'dt__max_leaf_nodes': 45, 'dt__min_samples_leaf': 2, 'dt__min_samples_split': 2, 'tfidf__max_df': 0.49, 'tfidf__max_features': 2000, 'tfidf__min_df': 2}\n",
      "Train accuracy: 0.948785527077164\n",
      "Test accuracy: 0.9461111111111111\n"
     ]
    }
   ],
   "source": [
    "# Best\n",
    "# Set hyperparameters\n",
    "best_param_grid_tree = {\n",
    "    'tfidf__max_df': [0.49],\n",
    "    'tfidf__min_df': [2],\n",
    "    'tfidf__max_features': [2000],\n",
    "    'dt__max_depth': [50],\n",
    "    'dt__min_samples_split': [2],\n",
    "    'dt__min_samples_leaf': [2],\n",
    "    'dt__max_leaf_nodes': [45]\n",
    "}\n",
    "\n",
    "# Perform grid search\n",
    "best_grid_search_tree = GridSearchCV(pipeline_tree, param_grid=best_param_grid_tree, cv=3, n_jobs=-1)\n",
    "best_grid_search_tree.fit(X_train, y_train)\n",
    "\n",
    "# Print best hyperparameters\n",
    "print(f\"Best hyperparameters: {best_grid_search_tree.best_params_}\")\n",
    "\n",
    "# Print training and testing accuracy with best hyperparameters\n",
    "print(f\"Train accuracy: {best_grid_search_tree.best_score_}\")\n",
    "print(f\"Test accuracy: {best_grid_search_tree.score(X_test, y_test)}\")"
   ]
  },
  {
   "cell_type": "code",
   "execution_count": 79,
   "id": "eb506181-964a-4f10-bee4-b685e17ca404",
   "metadata": {},
   "outputs": [],
   "source": [
    "preds = best_grid_search_tree.predict(X_test)"
   ]
  },
  {
   "cell_type": "code",
   "execution_count": 80,
   "id": "c2c7debf-8a87-444a-bd72-4288db425c3f",
   "metadata": {},
   "outputs": [
    {
     "data": {
      "image/png": "[encoded data removed]",
      "text/plain": [
       "<Figure size 640x480 with 2 Axes>"
      ]
     },
     "metadata": {},
     "output_type": "display_data"
    }
   ],
   "source": [
    "ConfusionMatrixDisplay.from_estimator(best_grid_search_tree, X_test, y_test, cmap='Blues');"
   ]
  },
  {
   "cell_type": "markdown",
   "id": "2219c7d5-b7c3-42fa-addb-003da6c34cbb",
   "metadata": {},
   "source": [
    "#### Confusion Matrix:\n",
    "\n",
    "##### Predicted AITA when actually Relationship Advice: 16\n",
    "##### Predicted AITA True: 819\n",
    "##### Predicted Relationship Advice when actually AITA: 81 \n",
    "##### Predicted Relationship Advice True: 884  "
   ]
  },
  {
   "cell_type": "code",
   "execution_count": 81,
   "id": "579a55ca-bf0c-4c17-97f4-27ab6849d93e",
   "metadata": {},
   "outputs": [
    {
     "data": {
      "text/plain": [
       "0.9479892761394102"
      ]
     },
     "execution_count": 81,
     "metadata": {},
     "output_type": "execute_result"
    }
   ],
   "source": [
    "f1_score(y_test, preds)"
   ]
  },
  {
   "cell_type": "markdown",
   "id": "b5cf01b6-131c-4f37-b890-2c7e5846ec82",
   "metadata": {},
   "source": [
    "Based on the train and test accuracies and the f1-score all being ~ 94%, they show the model performs well in predicting the correct subreddit based on the titles in the training data as well as new, unseen data. The amount of false predictions are relatively low. It performs much better than the baseline of 50%, but the logistic regression model performs better."
   ]
  },
  {
   "cell_type": "code",
   "execution_count": null,
   "id": "9f31f078-8883-461f-8b40-24b8d7b95754",
   "metadata": {},
   "outputs": [],
   "source": []
  }
 ],
 "metadata": {
  "kernelspec": {
   "display_name": "Python 3 (ipykernel)",
   "language": "python",
   "name": "python3"
  },
  "language_info": {
   "codemirror_mode": {
    "name": "ipython",
    "version": 3
   },
   "file_extension": ".py",
   "mimetype": "text/x-python",
   "name": "python",
   "nbconvert_exporter": "python",
   "pygments_lexer": "ipython3",
   "version": "3.9.16"
  }
 },
 "nbformat": 4,
 "nbformat_minor": 5
}
